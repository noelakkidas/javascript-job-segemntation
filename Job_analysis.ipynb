{
 "cells": [
  {
   "cell_type": "code",
   "execution_count": 1,
   "id": "6d51cb4f",
   "metadata": {},
   "outputs": [],
   "source": [
    "import pandas as pd\n",
    "import numpy as np\n",
    "import seaborn as sns\n",
    "import matplotlib.pyplot as plt\n",
    "%matplotlib inline"
   ]
  },
  {
   "cell_type": "code",
   "execution_count": 2,
   "id": "edcb3d6b",
   "metadata": {},
   "outputs": [],
   "source": [
    "df = pd.read_csv('jobs_final.csv')"
   ]
  },
  {
   "cell_type": "code",
   "execution_count": 3,
   "id": "953e602f",
   "metadata": {},
   "outputs": [
    {
     "data": {
      "text/html": [
       "<div>\n",
       "<style scoped>\n",
       "    .dataframe tbody tr th:only-of-type {\n",
       "        vertical-align: middle;\n",
       "    }\n",
       "\n",
       "    .dataframe tbody tr th {\n",
       "        vertical-align: top;\n",
       "    }\n",
       "\n",
       "    .dataframe thead th {\n",
       "        text-align: right;\n",
       "    }\n",
       "</style>\n",
       "<table border=\"1\" class=\"dataframe\">\n",
       "  <thead>\n",
       "    <tr style=\"text-align: right;\">\n",
       "      <th></th>\n",
       "      <th>Company</th>\n",
       "      <th>Location</th>\n",
       "      <th>Job-title</th>\n",
       "      <th>Job-level</th>\n",
       "      <th>Expected Salary lpa</th>\n",
       "      <th>Company size</th>\n",
       "      <th>No of vacancies</th>\n",
       "    </tr>\n",
       "  </thead>\n",
       "  <tbody>\n",
       "    <tr>\n",
       "      <th>0</th>\n",
       "      <td>Smart Food Safe Solutions Inc</td>\n",
       "      <td>Bengaluru</td>\n",
       "      <td>FrontEnd-Engineer</td>\n",
       "      <td>Entry</td>\n",
       "      <td>8</td>\n",
       "      <td>Small</td>\n",
       "      <td>6</td>\n",
       "    </tr>\n",
       "    <tr>\n",
       "      <th>1</th>\n",
       "      <td>Mobiveil</td>\n",
       "      <td>Bengaluru</td>\n",
       "      <td>BackEnd-Engineer</td>\n",
       "      <td>Mid-senior</td>\n",
       "      <td>17</td>\n",
       "      <td>Medium</td>\n",
       "      <td>4</td>\n",
       "    </tr>\n",
       "    <tr>\n",
       "      <th>2</th>\n",
       "      <td>Open Systems International</td>\n",
       "      <td>Bengaluru</td>\n",
       "      <td>FullStack-Engineer</td>\n",
       "      <td>Senior</td>\n",
       "      <td>22</td>\n",
       "      <td>Medium</td>\n",
       "      <td>2</td>\n",
       "    </tr>\n",
       "    <tr>\n",
       "      <th>3</th>\n",
       "      <td>Bloom Solutions</td>\n",
       "      <td>Bengaluru</td>\n",
       "      <td>FrontEnd-Engineer</td>\n",
       "      <td>Mid-senior</td>\n",
       "      <td>14</td>\n",
       "      <td>Small</td>\n",
       "      <td>3</td>\n",
       "    </tr>\n",
       "    <tr>\n",
       "      <th>4</th>\n",
       "      <td>CIEL HR Services</td>\n",
       "      <td>Bengaluru</td>\n",
       "      <td>BackEnd-Engineer</td>\n",
       "      <td>Senior</td>\n",
       "      <td>20</td>\n",
       "      <td>Large</td>\n",
       "      <td>3</td>\n",
       "    </tr>\n",
       "    <tr>\n",
       "      <th>5</th>\n",
       "      <td>Diageo</td>\n",
       "      <td>Bengaluru</td>\n",
       "      <td>FullStack-Engineer</td>\n",
       "      <td>Entry</td>\n",
       "      <td>17</td>\n",
       "      <td>Medium</td>\n",
       "      <td>7</td>\n",
       "    </tr>\n",
       "    <tr>\n",
       "      <th>6</th>\n",
       "      <td>Superior Group</td>\n",
       "      <td>Bengaluru</td>\n",
       "      <td>FrontEnd-Engineer</td>\n",
       "      <td>Senior</td>\n",
       "      <td>18</td>\n",
       "      <td>Large</td>\n",
       "      <td>3</td>\n",
       "    </tr>\n",
       "    <tr>\n",
       "      <th>7</th>\n",
       "      <td>Bangalore Base Company</td>\n",
       "      <td>Bengaluru</td>\n",
       "      <td>BackEnd-Engineer</td>\n",
       "      <td>Entry</td>\n",
       "      <td>9</td>\n",
       "      <td>Small</td>\n",
       "      <td>6</td>\n",
       "    </tr>\n",
       "    <tr>\n",
       "      <th>8</th>\n",
       "      <td>Bloom Consulting Services</td>\n",
       "      <td>Bengaluru</td>\n",
       "      <td>FullStack-Engineer</td>\n",
       "      <td>Mid-senior</td>\n",
       "      <td>20</td>\n",
       "      <td>Medium</td>\n",
       "      <td>4</td>\n",
       "    </tr>\n",
       "    <tr>\n",
       "      <th>9</th>\n",
       "      <td>Ample Technologies</td>\n",
       "      <td>Bengaluru</td>\n",
       "      <td>FrontEnd-Engineer</td>\n",
       "      <td>Entry</td>\n",
       "      <td>8</td>\n",
       "      <td>Small</td>\n",
       "      <td>6</td>\n",
       "    </tr>\n",
       "    <tr>\n",
       "      <th>10</th>\n",
       "      <td>Autosystem</td>\n",
       "      <td>Bengaluru</td>\n",
       "      <td>BackEnd-Engineer</td>\n",
       "      <td>Senior</td>\n",
       "      <td>18</td>\n",
       "      <td>Medium</td>\n",
       "      <td>1</td>\n",
       "    </tr>\n",
       "    <tr>\n",
       "      <th>11</th>\n",
       "      <td>Rapha English Connect Private Limited</td>\n",
       "      <td>Bengaluru</td>\n",
       "      <td>FullStack-Engineer</td>\n",
       "      <td>Mid-senior</td>\n",
       "      <td>20</td>\n",
       "      <td>Small</td>\n",
       "      <td>3</td>\n",
       "    </tr>\n",
       "    <tr>\n",
       "      <th>12</th>\n",
       "      <td>Superior Group</td>\n",
       "      <td>Bengaluru</td>\n",
       "      <td>FrontEnd-Engineer</td>\n",
       "      <td>Mid-senior</td>\n",
       "      <td>16</td>\n",
       "      <td>Large</td>\n",
       "      <td>6</td>\n",
       "    </tr>\n",
       "    <tr>\n",
       "      <th>13</th>\n",
       "      <td>MyAnatomy</td>\n",
       "      <td>Bengaluru</td>\n",
       "      <td>BackEnd-Engineer</td>\n",
       "      <td>Entry</td>\n",
       "      <td>14</td>\n",
       "      <td>Medium</td>\n",
       "      <td>7</td>\n",
       "    </tr>\n",
       "    <tr>\n",
       "      <th>14</th>\n",
       "      <td>Keyquest Technologies Private Limited</td>\n",
       "      <td>Bengaluru</td>\n",
       "      <td>FullStack-Engineer</td>\n",
       "      <td>Senior</td>\n",
       "      <td>22</td>\n",
       "      <td>Small</td>\n",
       "      <td>2</td>\n",
       "    </tr>\n",
       "    <tr>\n",
       "      <th>15</th>\n",
       "      <td>Techkshetra Info Solutions</td>\n",
       "      <td>Bengaluru</td>\n",
       "      <td>FrontEnd-Engineer</td>\n",
       "      <td>Entry</td>\n",
       "      <td>10</td>\n",
       "      <td>Medium</td>\n",
       "      <td>7</td>\n",
       "    </tr>\n",
       "    <tr>\n",
       "      <th>16</th>\n",
       "      <td>MatrikaSoftware</td>\n",
       "      <td>Bengaluru</td>\n",
       "      <td>BackEnd-Engineer</td>\n",
       "      <td>Mid-senior</td>\n",
       "      <td>16</td>\n",
       "      <td>Small</td>\n",
       "      <td>3</td>\n",
       "    </tr>\n",
       "    <tr>\n",
       "      <th>17</th>\n",
       "      <td>Rapha English Solutions LLP</td>\n",
       "      <td>Bengaluru</td>\n",
       "      <td>FullStack-Engineer</td>\n",
       "      <td>Entry</td>\n",
       "      <td>17</td>\n",
       "      <td>Medium</td>\n",
       "      <td>7</td>\n",
       "    </tr>\n",
       "    <tr>\n",
       "      <th>18</th>\n",
       "      <td>Margainfra.com</td>\n",
       "      <td>Bengaluru</td>\n",
       "      <td>FrontEnd-Engineer</td>\n",
       "      <td>Senior</td>\n",
       "      <td>18</td>\n",
       "      <td>Large</td>\n",
       "      <td>3</td>\n",
       "    </tr>\n",
       "    <tr>\n",
       "      <th>19</th>\n",
       "      <td>MatrikaSoftware</td>\n",
       "      <td>Bengaluru</td>\n",
       "      <td>BackEnd-Engineer</td>\n",
       "      <td>Mid-senior</td>\n",
       "      <td>17</td>\n",
       "      <td>Medium</td>\n",
       "      <td>4</td>\n",
       "    </tr>\n",
       "  </tbody>\n",
       "</table>\n",
       "</div>"
      ],
      "text/plain": [
       "                                  Company   Location           Job-title  \\\n",
       "0           Smart Food Safe Solutions Inc  Bengaluru   FrontEnd-Engineer   \n",
       "1                                Mobiveil  Bengaluru    BackEnd-Engineer   \n",
       "2              Open Systems International  Bengaluru  FullStack-Engineer   \n",
       "3                         Bloom Solutions  Bengaluru   FrontEnd-Engineer   \n",
       "4                        CIEL HR Services  Bengaluru    BackEnd-Engineer   \n",
       "5                                  Diageo  Bengaluru  FullStack-Engineer   \n",
       "6                          Superior Group  Bengaluru   FrontEnd-Engineer   \n",
       "7                  Bangalore Base Company  Bengaluru    BackEnd-Engineer   \n",
       "8               Bloom Consulting Services  Bengaluru  FullStack-Engineer   \n",
       "9                      Ample Technologies  Bengaluru   FrontEnd-Engineer   \n",
       "10                             Autosystem  Bengaluru    BackEnd-Engineer   \n",
       "11  Rapha English Connect Private Limited  Bengaluru  FullStack-Engineer   \n",
       "12                         Superior Group  Bengaluru   FrontEnd-Engineer   \n",
       "13                              MyAnatomy  Bengaluru    BackEnd-Engineer   \n",
       "14  Keyquest Technologies Private Limited  Bengaluru  FullStack-Engineer   \n",
       "15             Techkshetra Info Solutions  Bengaluru   FrontEnd-Engineer   \n",
       "16                        MatrikaSoftware  Bengaluru    BackEnd-Engineer   \n",
       "17            Rapha English Solutions LLP  Bengaluru  FullStack-Engineer   \n",
       "18                         Margainfra.com  Bengaluru   FrontEnd-Engineer   \n",
       "19                        MatrikaSoftware  Bengaluru    BackEnd-Engineer   \n",
       "\n",
       "     Job-level  Expected Salary lpa Company size  No of vacancies  \n",
       "0        Entry                    8        Small                6  \n",
       "1   Mid-senior                   17       Medium                4  \n",
       "2       Senior                   22       Medium                2  \n",
       "3   Mid-senior                   14        Small                3  \n",
       "4       Senior                   20        Large                3  \n",
       "5        Entry                   17       Medium                7  \n",
       "6       Senior                   18        Large                3  \n",
       "7        Entry                    9        Small                6  \n",
       "8   Mid-senior                   20       Medium                4  \n",
       "9        Entry                    8        Small                6  \n",
       "10      Senior                   18       Medium                1  \n",
       "11  Mid-senior                   20        Small                3  \n",
       "12  Mid-senior                   16        Large                6  \n",
       "13       Entry                   14       Medium                7  \n",
       "14      Senior                   22        Small                2  \n",
       "15       Entry                   10       Medium                7  \n",
       "16  Mid-senior                   16        Small                3  \n",
       "17       Entry                   17       Medium                7  \n",
       "18      Senior                   18        Large                3  \n",
       "19  Mid-senior                   17       Medium                4  "
      ]
     },
     "execution_count": 3,
     "metadata": {},
     "output_type": "execute_result"
    }
   ],
   "source": [
    "df.head(20)"
   ]
  },
  {
   "cell_type": "code",
   "execution_count": 4,
   "id": "223ec92b",
   "metadata": {},
   "outputs": [
    {
     "data": {
      "text/html": [
       "<div>\n",
       "<style scoped>\n",
       "    .dataframe tbody tr th:only-of-type {\n",
       "        vertical-align: middle;\n",
       "    }\n",
       "\n",
       "    .dataframe tbody tr th {\n",
       "        vertical-align: top;\n",
       "    }\n",
       "\n",
       "    .dataframe thead th {\n",
       "        text-align: right;\n",
       "    }\n",
       "</style>\n",
       "<table border=\"1\" class=\"dataframe\">\n",
       "  <thead>\n",
       "    <tr style=\"text-align: right;\">\n",
       "      <th></th>\n",
       "      <th>Company</th>\n",
       "      <th>Location</th>\n",
       "      <th>Job-title</th>\n",
       "      <th>Job-level</th>\n",
       "      <th>Expected Salary lpa</th>\n",
       "      <th>Company size</th>\n",
       "      <th>No of vacancies</th>\n",
       "    </tr>\n",
       "  </thead>\n",
       "  <tbody>\n",
       "    <tr>\n",
       "      <th>90</th>\n",
       "      <td>Augusta Infotech</td>\n",
       "      <td>Ahmedabad</td>\n",
       "      <td>FrontEnd-Engineer</td>\n",
       "      <td>Senior</td>\n",
       "      <td>10</td>\n",
       "      <td>Medium</td>\n",
       "      <td>2</td>\n",
       "    </tr>\n",
       "    <tr>\n",
       "      <th>91</th>\n",
       "      <td>Capgemini</td>\n",
       "      <td>Ahmedabad</td>\n",
       "      <td>BackEnd-Engineer</td>\n",
       "      <td>Entry</td>\n",
       "      <td>9</td>\n",
       "      <td>Large</td>\n",
       "      <td>9</td>\n",
       "    </tr>\n",
       "    <tr>\n",
       "      <th>92</th>\n",
       "      <td>Sonant Technologies Private Limited</td>\n",
       "      <td>Ahmedabad</td>\n",
       "      <td>FullStack-Engineer</td>\n",
       "      <td>Mid-senior</td>\n",
       "      <td>14</td>\n",
       "      <td>Medium</td>\n",
       "      <td>4</td>\n",
       "    </tr>\n",
       "    <tr>\n",
       "      <th>93</th>\n",
       "      <td>Atlan</td>\n",
       "      <td>Ahmedabad</td>\n",
       "      <td>FrontEnd-Engineer</td>\n",
       "      <td>Entry</td>\n",
       "      <td>8</td>\n",
       "      <td>Large</td>\n",
       "      <td>9</td>\n",
       "    </tr>\n",
       "    <tr>\n",
       "      <th>94</th>\n",
       "      <td>SkillBit</td>\n",
       "      <td>Ahmedabad</td>\n",
       "      <td>BackEnd-Engineer</td>\n",
       "      <td>Senior</td>\n",
       "      <td>12</td>\n",
       "      <td>Medium</td>\n",
       "      <td>2</td>\n",
       "    </tr>\n",
       "    <tr>\n",
       "      <th>95</th>\n",
       "      <td>IBM</td>\n",
       "      <td>Ahmedabad</td>\n",
       "      <td>FullStack-Engineer</td>\n",
       "      <td>Mid-senior</td>\n",
       "      <td>14</td>\n",
       "      <td>Large</td>\n",
       "      <td>6</td>\n",
       "    </tr>\n",
       "    <tr>\n",
       "      <th>96</th>\n",
       "      <td>Quantiphi</td>\n",
       "      <td>Ahmedabad</td>\n",
       "      <td>FrontEnd-Engineer</td>\n",
       "      <td>Senior</td>\n",
       "      <td>10</td>\n",
       "      <td>Medium</td>\n",
       "      <td>1</td>\n",
       "    </tr>\n",
       "    <tr>\n",
       "      <th>97</th>\n",
       "      <td>SISA Information Security Pvt</td>\n",
       "      <td>Ahmedabad</td>\n",
       "      <td>BackEnd-Engineer</td>\n",
       "      <td>Entry</td>\n",
       "      <td>8</td>\n",
       "      <td>Medium</td>\n",
       "      <td>7</td>\n",
       "    </tr>\n",
       "    <tr>\n",
       "      <th>98</th>\n",
       "      <td>Samsung R&amp;D Institute India</td>\n",
       "      <td>Ahmedabad</td>\n",
       "      <td>FullStack-Engineer</td>\n",
       "      <td>Mid-senior</td>\n",
       "      <td>14</td>\n",
       "      <td>Large</td>\n",
       "      <td>6</td>\n",
       "    </tr>\n",
       "    <tr>\n",
       "      <th>99</th>\n",
       "      <td>CloudMoyo</td>\n",
       "      <td>Ahmedabad</td>\n",
       "      <td>FrontEnd-Engineer</td>\n",
       "      <td>Senior</td>\n",
       "      <td>10</td>\n",
       "      <td>Medium</td>\n",
       "      <td>2</td>\n",
       "    </tr>\n",
       "  </tbody>\n",
       "</table>\n",
       "</div>"
      ],
      "text/plain": [
       "                                Company   Location           Job-title  \\\n",
       "90                     Augusta Infotech  Ahmedabad   FrontEnd-Engineer   \n",
       "91                            Capgemini  Ahmedabad    BackEnd-Engineer   \n",
       "92  Sonant Technologies Private Limited  Ahmedabad  FullStack-Engineer   \n",
       "93                                Atlan  Ahmedabad   FrontEnd-Engineer   \n",
       "94                             SkillBit  Ahmedabad    BackEnd-Engineer   \n",
       "95                                  IBM  Ahmedabad  FullStack-Engineer   \n",
       "96                            Quantiphi  Ahmedabad   FrontEnd-Engineer   \n",
       "97        SISA Information Security Pvt  Ahmedabad    BackEnd-Engineer   \n",
       "98          Samsung R&D Institute India  Ahmedabad  FullStack-Engineer   \n",
       "99                            CloudMoyo  Ahmedabad   FrontEnd-Engineer   \n",
       "\n",
       "     Job-level  Expected Salary lpa Company size  No of vacancies  \n",
       "90      Senior                   10       Medium                2  \n",
       "91       Entry                    9        Large                9  \n",
       "92  Mid-senior                   14       Medium                4  \n",
       "93       Entry                    8        Large                9  \n",
       "94      Senior                   12       Medium                2  \n",
       "95  Mid-senior                   14        Large                6  \n",
       "96      Senior                   10       Medium                1  \n",
       "97       Entry                    8       Medium                7  \n",
       "98  Mid-senior                   14        Large                6  \n",
       "99      Senior                   10       Medium                2  "
      ]
     },
     "execution_count": 4,
     "metadata": {},
     "output_type": "execute_result"
    }
   ],
   "source": [
    "df.tail(10)"
   ]
  },
  {
   "cell_type": "code",
   "execution_count": 5,
   "id": "1aa4cac3",
   "metadata": {},
   "outputs": [
    {
     "data": {
      "text/plain": [
       "Company                0\n",
       "Location               0\n",
       "Job-title              0\n",
       "Job-level              0\n",
       "Expected Salary lpa    0\n",
       "Company size           0\n",
       "No of vacancies        0\n",
       "dtype: int64"
      ]
     },
     "execution_count": 5,
     "metadata": {},
     "output_type": "execute_result"
    }
   ],
   "source": [
    "df.isnull().sum()"
   ]
  },
  {
   "cell_type": "code",
   "execution_count": 6,
   "id": "943c2b90",
   "metadata": {},
   "outputs": [
    {
     "data": {
      "text/plain": [
       "<AxesSubplot:>"
      ]
     },
     "execution_count": 6,
     "metadata": {},
     "output_type": "execute_result"
    },
    {
     "data": {
      "image/png": "[encoded data removed]",
      "text/plain": [
       "<Figure size 432x288 with 1 Axes>"
      ]
     },
     "metadata": {
      "needs_background": "light"
     },
     "output_type": "display_data"
    }
   ],
   "source": [
    "sns.heatmap(df.isnull(), cbar=False, cmap='viridis')"
   ]
  },
  {
   "cell_type": "code",
   "execution_count": 7,
   "id": "f39fd0d5",
   "metadata": {},
   "outputs": [
    {
     "data": {
      "text/plain": [
       "Company                object\n",
       "Location               object\n",
       "Job-title              object\n",
       "Job-level              object\n",
       "Expected Salary lpa     int64\n",
       "Company size           object\n",
       "No of vacancies         int64\n",
       "dtype: object"
      ]
     },
     "execution_count": 7,
     "metadata": {},
     "output_type": "execute_result"
    }
   ],
   "source": [
    "df.dtypes"
   ]
  },
  {
   "cell_type": "code",
   "execution_count": 8,
   "id": "e5ced819",
   "metadata": {},
   "outputs": [],
   "source": [
    "df['Job-level'].replace(['Entry', 'Mid-senior', 'Senior'], [1,2,3], inplace=True)"
   ]
  },
  {
   "cell_type": "code",
   "execution_count": 9,
   "id": "f53289b4",
   "metadata": {},
   "outputs": [
    {
     "data": {
      "text/html": [
       "<div>\n",
       "<style scoped>\n",
       "    .dataframe tbody tr th:only-of-type {\n",
       "        vertical-align: middle;\n",
       "    }\n",
       "\n",
       "    .dataframe tbody tr th {\n",
       "        vertical-align: top;\n",
       "    }\n",
       "\n",
       "    .dataframe thead th {\n",
       "        text-align: right;\n",
       "    }\n",
       "</style>\n",
       "<table border=\"1\" class=\"dataframe\">\n",
       "  <thead>\n",
       "    <tr style=\"text-align: right;\">\n",
       "      <th></th>\n",
       "      <th>Company</th>\n",
       "      <th>Location</th>\n",
       "      <th>Job-title</th>\n",
       "      <th>Job-level</th>\n",
       "      <th>Expected Salary lpa</th>\n",
       "      <th>Company size</th>\n",
       "      <th>No of vacancies</th>\n",
       "    </tr>\n",
       "  </thead>\n",
       "  <tbody>\n",
       "    <tr>\n",
       "      <th>0</th>\n",
       "      <td>Smart Food Safe Solutions Inc</td>\n",
       "      <td>Bengaluru</td>\n",
       "      <td>FrontEnd-Engineer</td>\n",
       "      <td>1</td>\n",
       "      <td>8</td>\n",
       "      <td>Small</td>\n",
       "      <td>6</td>\n",
       "    </tr>\n",
       "    <tr>\n",
       "      <th>1</th>\n",
       "      <td>Mobiveil</td>\n",
       "      <td>Bengaluru</td>\n",
       "      <td>BackEnd-Engineer</td>\n",
       "      <td>2</td>\n",
       "      <td>17</td>\n",
       "      <td>Medium</td>\n",
       "      <td>4</td>\n",
       "    </tr>\n",
       "    <tr>\n",
       "      <th>2</th>\n",
       "      <td>Open Systems International</td>\n",
       "      <td>Bengaluru</td>\n",
       "      <td>FullStack-Engineer</td>\n",
       "      <td>3</td>\n",
       "      <td>22</td>\n",
       "      <td>Medium</td>\n",
       "      <td>2</td>\n",
       "    </tr>\n",
       "    <tr>\n",
       "      <th>3</th>\n",
       "      <td>Bloom Solutions</td>\n",
       "      <td>Bengaluru</td>\n",
       "      <td>FrontEnd-Engineer</td>\n",
       "      <td>2</td>\n",
       "      <td>14</td>\n",
       "      <td>Small</td>\n",
       "      <td>3</td>\n",
       "    </tr>\n",
       "    <tr>\n",
       "      <th>4</th>\n",
       "      <td>CIEL HR Services</td>\n",
       "      <td>Bengaluru</td>\n",
       "      <td>BackEnd-Engineer</td>\n",
       "      <td>3</td>\n",
       "      <td>20</td>\n",
       "      <td>Large</td>\n",
       "      <td>3</td>\n",
       "    </tr>\n",
       "  </tbody>\n",
       "</table>\n",
       "</div>"
      ],
      "text/plain": [
       "                         Company   Location           Job-title  Job-level  \\\n",
       "0  Smart Food Safe Solutions Inc  Bengaluru   FrontEnd-Engineer          1   \n",
       "1                       Mobiveil  Bengaluru    BackEnd-Engineer          2   \n",
       "2     Open Systems International  Bengaluru  FullStack-Engineer          3   \n",
       "3                Bloom Solutions  Bengaluru   FrontEnd-Engineer          2   \n",
       "4               CIEL HR Services  Bengaluru    BackEnd-Engineer          3   \n",
       "\n",
       "   Expected Salary lpa Company size  No of vacancies  \n",
       "0                    8        Small                6  \n",
       "1                   17       Medium                4  \n",
       "2                   22       Medium                2  \n",
       "3                   14        Small                3  \n",
       "4                   20        Large                3  "
      ]
     },
     "execution_count": 9,
     "metadata": {},
     "output_type": "execute_result"
    }
   ],
   "source": [
    "df.head()"
   ]
  },
  {
   "cell_type": "code",
   "execution_count": 10,
   "id": "9e5a2c5b",
   "metadata": {},
   "outputs": [
    {
     "data": {
      "text/plain": [
       "Company                90\n",
       "Location                5\n",
       "Job-title               3\n",
       "Job-level               3\n",
       "Expected Salary lpa    18\n",
       "Company size            3\n",
       "No of vacancies         7\n",
       "dtype: int64"
      ]
     },
     "execution_count": 10,
     "metadata": {},
     "output_type": "execute_result"
    }
   ],
   "source": [
    "df.nunique()"
   ]
  },
  {
   "cell_type": "code",
   "execution_count": 11,
   "id": "4ee0659e",
   "metadata": {},
   "outputs": [
    {
     "data": {
      "text/plain": [
       "<AxesSubplot:>"
      ]
     },
     "execution_count": 11,
     "metadata": {},
     "output_type": "execute_result"
    },
    {
     "data": {
      "image/png": "[encoded data removed]",
      "text/plain": [
       "<Figure size 432x288 with 1 Axes>"
      ]
     },
     "metadata": {
      "needs_background": "light"
     },
     "output_type": "display_data"
    }
   ],
   "source": [
    "o = df['Company'].value_counts()\n",
    "o[:15].plot.bar()"
   ]
  },
  {
   "cell_type": "code",
   "execution_count": 15,
   "id": "e99d0334",
   "metadata": {},
   "outputs": [
    {
     "data": {
      "text/html": [
       "<div>\n",
       "<style scoped>\n",
       "    .dataframe tbody tr th:only-of-type {\n",
       "        vertical-align: middle;\n",
       "    }\n",
       "\n",
       "    .dataframe tbody tr th {\n",
       "        vertical-align: top;\n",
       "    }\n",
       "\n",
       "    .dataframe thead th {\n",
       "        text-align: right;\n",
       "    }\n",
       "</style>\n",
       "<table border=\"1\" class=\"dataframe\">\n",
       "  <thead>\n",
       "    <tr style=\"text-align: right;\">\n",
       "      <th></th>\n",
       "      <th>Company</th>\n",
       "      <th>Location</th>\n",
       "      <th>Job-title</th>\n",
       "    </tr>\n",
       "  </thead>\n",
       "  <tbody>\n",
       "    <tr>\n",
       "      <th>0</th>\n",
       "      <td>ADCI HYD 13 SEZ</td>\n",
       "      <td>Delhi</td>\n",
       "      <td>1</td>\n",
       "    </tr>\n",
       "    <tr>\n",
       "      <th>69</th>\n",
       "      <td>SAP</td>\n",
       "      <td>Pune</td>\n",
       "      <td>1</td>\n",
       "    </tr>\n",
       "    <tr>\n",
       "      <th>68</th>\n",
       "      <td>Rapha English Solutions LLP</td>\n",
       "      <td>Bengaluru</td>\n",
       "      <td>1</td>\n",
       "    </tr>\n",
       "    <tr>\n",
       "      <th>67</th>\n",
       "      <td>Rapha English Connect Private Limited</td>\n",
       "      <td>Bengaluru</td>\n",
       "      <td>1</td>\n",
       "    </tr>\n",
       "    <tr>\n",
       "      <th>66</th>\n",
       "      <td>Quantiphi</td>\n",
       "      <td>Mumbai</td>\n",
       "      <td>1</td>\n",
       "    </tr>\n",
       "    <tr>\n",
       "      <th>...</th>\n",
       "      <td>...</td>\n",
       "      <td>...</td>\n",
       "      <td>...</td>\n",
       "    </tr>\n",
       "    <tr>\n",
       "      <th>95</th>\n",
       "      <td>e-Zest Solutions Limited</td>\n",
       "      <td>Pune</td>\n",
       "      <td>1</td>\n",
       "    </tr>\n",
       "    <tr>\n",
       "      <th>80</th>\n",
       "      <td>Superior Group</td>\n",
       "      <td>Bengaluru</td>\n",
       "      <td>2</td>\n",
       "    </tr>\n",
       "    <tr>\n",
       "      <th>63</th>\n",
       "      <td>Qualcomm</td>\n",
       "      <td>Mumbai</td>\n",
       "      <td>2</td>\n",
       "    </tr>\n",
       "    <tr>\n",
       "      <th>50</th>\n",
       "      <td>MatrikaSoftware</td>\n",
       "      <td>Bengaluru</td>\n",
       "      <td>2</td>\n",
       "    </tr>\n",
       "    <tr>\n",
       "      <th>58</th>\n",
       "      <td>Open Systems International</td>\n",
       "      <td>Bengaluru</td>\n",
       "      <td>2</td>\n",
       "    </tr>\n",
       "  </tbody>\n",
       "</table>\n",
       "<p>96 rows × 3 columns</p>\n",
       "</div>"
      ],
      "text/plain": [
       "                                  Company   Location  Job-title\n",
       "0                         ADCI HYD 13 SEZ      Delhi          1\n",
       "69                                    SAP       Pune          1\n",
       "68            Rapha English Solutions LLP  Bengaluru          1\n",
       "67  Rapha English Connect Private Limited  Bengaluru          1\n",
       "66                              Quantiphi     Mumbai          1\n",
       "..                                    ...        ...        ...\n",
       "95               e-Zest Solutions Limited       Pune          1\n",
       "80                         Superior Group  Bengaluru          2\n",
       "63                               Qualcomm     Mumbai          2\n",
       "50                        MatrikaSoftware  Bengaluru          2\n",
       "58             Open Systems International  Bengaluru          2\n",
       "\n",
       "[96 rows x 3 columns]"
      ]
     },
     "execution_count": 15,
     "metadata": {},
     "output_type": "execute_result"
    },
    {
     "data": {
      "image/png": "[encoded data removed]",
      "text/plain": [
       "<Figure size 720x504 with 1 Axes>"
      ]
     },
     "metadata": {
      "needs_background": "light"
     },
     "output_type": "display_data"
    }
   ],
   "source": [
    "df1 = df.groupby(by=['Company','Location']).size().reset_index(name='Job-title').sort_values(by='Job-title')\n",
    "\n",
    "plt.figure(figsize=(10,7))\n",
    "sns.barplot(y='Company', x='Job-title', hue='Location', data=df1.head(20))\n",
    "plt.yticks(size=15)\n",
    "plt.ylabel('Company', size=15)\n",
    "plt.xlabel('No of vacancies', size=16)\n",
    "plt.xticks(size=15)\n",
    "\n",
    "df1"
   ]
  },
  {
   "cell_type": "code",
   "execution_count": 19,
   "id": "1764b5b0",
   "metadata": {},
   "outputs": [
    {
     "data": {
      "text/html": [
       "<div>\n",
       "<style scoped>\n",
       "    .dataframe tbody tr th:only-of-type {\n",
       "        vertical-align: middle;\n",
       "    }\n",
       "\n",
       "    .dataframe tbody tr th {\n",
       "        vertical-align: top;\n",
       "    }\n",
       "\n",
       "    .dataframe thead th {\n",
       "        text-align: right;\n",
       "    }\n",
       "</style>\n",
       "<table border=\"1\" class=\"dataframe\">\n",
       "  <thead>\n",
       "    <tr style=\"text-align: right;\">\n",
       "      <th></th>\n",
       "      <th>count</th>\n",
       "      <th>Position</th>\n",
       "    </tr>\n",
       "  </thead>\n",
       "  <tbody>\n",
       "    <tr>\n",
       "      <th>FrontEnd-Engineer</th>\n",
       "      <td>34</td>\n",
       "      <td>FrontEnd-Engineer</td>\n",
       "    </tr>\n",
       "    <tr>\n",
       "      <th>FullStack-Engineer</th>\n",
       "      <td>34</td>\n",
       "      <td>FullStack-Engineer</td>\n",
       "    </tr>\n",
       "    <tr>\n",
       "      <th>BackEnd-Engineer</th>\n",
       "      <td>32</td>\n",
       "      <td>BackEnd-Engineer</td>\n",
       "    </tr>\n",
       "  </tbody>\n",
       "</table>\n",
       "</div>"
      ],
      "text/plain": [
       "                    count            Position\n",
       "FrontEnd-Engineer      34   FrontEnd-Engineer\n",
       "FullStack-Engineer     34  FullStack-Engineer\n",
       "BackEnd-Engineer       32    BackEnd-Engineer"
      ]
     },
     "execution_count": 19,
     "metadata": {},
     "output_type": "execute_result"
    },
    {
     "data": {
      "image/png": "[encoded data removed]",
      "text/plain": [
       "<Figure size 2520x576 with 1 Axes>"
      ]
     },
     "metadata": {},
     "output_type": "display_data"
    }
   ],
   "source": [
    "top = pd.DataFrame(df['Job-title'].value_counts()[:10])\n",
    "top['Position']=top.index\n",
    "top=top.rename(columns={'Job-title':'count'})\n",
    "top.plot.pie(y='count',figsize=(35,8),subplots=True,autopct='%1.1f%%',)\n",
    "plt.legend(loc='upper left')\n",
    "\n",
    "top"
   ]
  },
  {
   "cell_type": "code",
   "execution_count": 20,
   "id": "b2414904",
   "metadata": {},
   "outputs": [
    {
     "data": {
      "text/html": [
       "<div>\n",
       "<style scoped>\n",
       "    .dataframe tbody tr th:only-of-type {\n",
       "        vertical-align: middle;\n",
       "    }\n",
       "\n",
       "    .dataframe tbody tr th {\n",
       "        vertical-align: top;\n",
       "    }\n",
       "\n",
       "    .dataframe thead th {\n",
       "        text-align: right;\n",
       "    }\n",
       "</style>\n",
       "<table border=\"1\" class=\"dataframe\">\n",
       "  <thead>\n",
       "    <tr style=\"text-align: right;\">\n",
       "      <th></th>\n",
       "      <th>Job-title</th>\n",
       "      <th>No of vacancies</th>\n",
       "    </tr>\n",
       "  </thead>\n",
       "  <tbody>\n",
       "    <tr>\n",
       "      <th>1</th>\n",
       "      <td>FrontEnd-Engineer</td>\n",
       "      <td>34</td>\n",
       "    </tr>\n",
       "    <tr>\n",
       "      <th>2</th>\n",
       "      <td>FullStack-Engineer</td>\n",
       "      <td>34</td>\n",
       "    </tr>\n",
       "    <tr>\n",
       "      <th>0</th>\n",
       "      <td>BackEnd-Engineer</td>\n",
       "      <td>32</td>\n",
       "    </tr>\n",
       "  </tbody>\n",
       "</table>\n",
       "</div>"
      ],
      "text/plain": [
       "            Job-title  No of vacancies\n",
       "1   FrontEnd-Engineer               34\n",
       "2  FullStack-Engineer               34\n",
       "0    BackEnd-Engineer               32"
      ]
     },
     "execution_count": 20,
     "metadata": {},
     "output_type": "execute_result"
    },
    {
     "data": {
      "image/png": "[encoded data removed]",
      "text/plain": [
       "<Figure size 720x648 with 1 Axes>"
      ]
     },
     "metadata": {
      "needs_background": "light"
     },
     "output_type": "display_data"
    }
   ],
   "source": [
    "df2=df.groupby(by='Job-title').size().reset_index(name=\"No of vacancies\").sort_values(by='No of vacancies', ascending=False)\n",
    "plt.figure(figsize=(10,9))\n",
    "sns.barplot(y='Job-title', x='No of vacancies', data=df2.head(20))\n",
    "plt.yticks(size=20)\n",
    "df2.head(20)"
   ]
  },
  {
   "cell_type": "code",
   "execution_count": 21,
   "id": "7e169835",
   "metadata": {},
   "outputs": [
    {
     "data": {
      "text/html": [
       "<div>\n",
       "<style scoped>\n",
       "    .dataframe tbody tr th:only-of-type {\n",
       "        vertical-align: middle;\n",
       "    }\n",
       "\n",
       "    .dataframe tbody tr th {\n",
       "        vertical-align: top;\n",
       "    }\n",
       "\n",
       "    .dataframe thead th {\n",
       "        text-align: right;\n",
       "    }\n",
       "</style>\n",
       "<table border=\"1\" class=\"dataframe\">\n",
       "  <thead>\n",
       "    <tr style=\"text-align: right;\">\n",
       "      <th></th>\n",
       "      <th>count</th>\n",
       "      <th>City</th>\n",
       "    </tr>\n",
       "  </thead>\n",
       "  <tbody>\n",
       "    <tr>\n",
       "      <th>Bengaluru</th>\n",
       "      <td>26</td>\n",
       "      <td>Bengaluru</td>\n",
       "    </tr>\n",
       "    <tr>\n",
       "      <th>Mumbai</th>\n",
       "      <td>21</td>\n",
       "      <td>Mumbai</td>\n",
       "    </tr>\n",
       "    <tr>\n",
       "      <th>Pune</th>\n",
       "      <td>20</td>\n",
       "      <td>Pune</td>\n",
       "    </tr>\n",
       "    <tr>\n",
       "      <th>Ahmedabad</th>\n",
       "      <td>17</td>\n",
       "      <td>Ahmedabad</td>\n",
       "    </tr>\n",
       "    <tr>\n",
       "      <th>Delhi</th>\n",
       "      <td>16</td>\n",
       "      <td>Delhi</td>\n",
       "    </tr>\n",
       "  </tbody>\n",
       "</table>\n",
       "</div>"
      ],
      "text/plain": [
       "           count       City\n",
       "Bengaluru     26  Bengaluru\n",
       "Mumbai        21     Mumbai\n",
       "Pune          20       Pune\n",
       "Ahmedabad     17  Ahmedabad\n",
       "Delhi         16      Delhi"
      ]
     },
     "execution_count": 21,
     "metadata": {},
     "output_type": "execute_result"
    },
    {
     "data": {
      "image/png": "[encoded data removed]",
      "text/plain": [
       "<Figure size 2520x576 with 1 Axes>"
      ]
     },
     "metadata": {},
     "output_type": "display_data"
    }
   ],
   "source": [
    "top2=pd.DataFrame(df['Location'].value_counts()[:10])\n",
    "top2[\"City\"]=top2.index\n",
    "top2=top2.rename(columns={'Location':'count'})\n",
    "top2.plot.pie(y=\"count\",figsize=(35,8),subplots=True,autopct='%1.1f%%',)\n",
    "plt.legend(loc=\"upper left\")\n",
    "\n",
    "top2"
   ]
  },
  {
   "cell_type": "code",
   "execution_count": 23,
   "id": "542875af",
   "metadata": {},
   "outputs": [
    {
     "data": {
      "text/html": [
       "<div>\n",
       "<style scoped>\n",
       "    .dataframe tbody tr th:only-of-type {\n",
       "        vertical-align: middle;\n",
       "    }\n",
       "\n",
       "    .dataframe tbody tr th {\n",
       "        vertical-align: top;\n",
       "    }\n",
       "\n",
       "    .dataframe thead th {\n",
       "        text-align: right;\n",
       "    }\n",
       "</style>\n",
       "<table border=\"1\" class=\"dataframe\">\n",
       "  <thead>\n",
       "    <tr style=\"text-align: right;\">\n",
       "      <th></th>\n",
       "      <th>Job-title</th>\n",
       "      <th>Location</th>\n",
       "      <th>No of vacancies</th>\n",
       "    </tr>\n",
       "  </thead>\n",
       "  <tbody>\n",
       "    <tr>\n",
       "      <th>1</th>\n",
       "      <td>BackEnd-Engineer</td>\n",
       "      <td>Bengaluru</td>\n",
       "      <td>9</td>\n",
       "    </tr>\n",
       "    <tr>\n",
       "      <th>6</th>\n",
       "      <td>FrontEnd-Engineer</td>\n",
       "      <td>Bengaluru</td>\n",
       "      <td>9</td>\n",
       "    </tr>\n",
       "    <tr>\n",
       "      <th>11</th>\n",
       "      <td>FullStack-Engineer</td>\n",
       "      <td>Bengaluru</td>\n",
       "      <td>8</td>\n",
       "    </tr>\n",
       "    <tr>\n",
       "      <th>13</th>\n",
       "      <td>FullStack-Engineer</td>\n",
       "      <td>Mumbai</td>\n",
       "      <td>8</td>\n",
       "    </tr>\n",
       "    <tr>\n",
       "      <th>4</th>\n",
       "      <td>BackEnd-Engineer</td>\n",
       "      <td>Pune</td>\n",
       "      <td>7</td>\n",
       "    </tr>\n",
       "    <tr>\n",
       "      <th>8</th>\n",
       "      <td>FrontEnd-Engineer</td>\n",
       "      <td>Mumbai</td>\n",
       "      <td>7</td>\n",
       "    </tr>\n",
       "    <tr>\n",
       "      <th>9</th>\n",
       "      <td>FrontEnd-Engineer</td>\n",
       "      <td>Pune</td>\n",
       "      <td>7</td>\n",
       "    </tr>\n",
       "    <tr>\n",
       "      <th>3</th>\n",
       "      <td>BackEnd-Engineer</td>\n",
       "      <td>Mumbai</td>\n",
       "      <td>6</td>\n",
       "    </tr>\n",
       "    <tr>\n",
       "      <th>5</th>\n",
       "      <td>FrontEnd-Engineer</td>\n",
       "      <td>Ahmedabad</td>\n",
       "      <td>6</td>\n",
       "    </tr>\n",
       "    <tr>\n",
       "      <th>10</th>\n",
       "      <td>FullStack-Engineer</td>\n",
       "      <td>Ahmedabad</td>\n",
       "      <td>6</td>\n",
       "    </tr>\n",
       "    <tr>\n",
       "      <th>12</th>\n",
       "      <td>FullStack-Engineer</td>\n",
       "      <td>Delhi</td>\n",
       "      <td>6</td>\n",
       "    </tr>\n",
       "    <tr>\n",
       "      <th>14</th>\n",
       "      <td>FullStack-Engineer</td>\n",
       "      <td>Pune</td>\n",
       "      <td>6</td>\n",
       "    </tr>\n",
       "    <tr>\n",
       "      <th>0</th>\n",
       "      <td>BackEnd-Engineer</td>\n",
       "      <td>Ahmedabad</td>\n",
       "      <td>5</td>\n",
       "    </tr>\n",
       "    <tr>\n",
       "      <th>2</th>\n",
       "      <td>BackEnd-Engineer</td>\n",
       "      <td>Delhi</td>\n",
       "      <td>5</td>\n",
       "    </tr>\n",
       "    <tr>\n",
       "      <th>7</th>\n",
       "      <td>FrontEnd-Engineer</td>\n",
       "      <td>Delhi</td>\n",
       "      <td>5</td>\n",
       "    </tr>\n",
       "  </tbody>\n",
       "</table>\n",
       "</div>"
      ],
      "text/plain": [
       "             Job-title   Location  No of vacancies\n",
       "1     BackEnd-Engineer  Bengaluru                9\n",
       "6    FrontEnd-Engineer  Bengaluru                9\n",
       "11  FullStack-Engineer  Bengaluru                8\n",
       "13  FullStack-Engineer     Mumbai                8\n",
       "4     BackEnd-Engineer       Pune                7\n",
       "8    FrontEnd-Engineer     Mumbai                7\n",
       "9    FrontEnd-Engineer       Pune                7\n",
       "3     BackEnd-Engineer     Mumbai                6\n",
       "5    FrontEnd-Engineer  Ahmedabad                6\n",
       "10  FullStack-Engineer  Ahmedabad                6\n",
       "12  FullStack-Engineer      Delhi                6\n",
       "14  FullStack-Engineer       Pune                6\n",
       "0     BackEnd-Engineer  Ahmedabad                5\n",
       "2     BackEnd-Engineer      Delhi                5\n",
       "7    FrontEnd-Engineer      Delhi                5"
      ]
     },
     "execution_count": 23,
     "metadata": {},
     "output_type": "execute_result"
    },
    {
     "data": {
      "image/png": "[encoded data removed]",
      "text/plain": [
       "<Figure size 1080x648 with 1 Axes>"
      ]
     },
     "metadata": {
      "needs_background": "light"
     },
     "output_type": "display_data"
    }
   ],
   "source": [
    "df3=df.groupby(by=[\"Job-title\",\"Location\"]).size().reset_index(name=\"No of vacancies\").sort_values(by=\"No of vacancies\",ascending=False)\n",
    "plt.figure(figsize=(15,9))\n",
    "sns.barplot(x=\"No of vacancies\",y=\"Job-title\",data=df3.head(20),hue=\"Location\")\n",
    "plt.yticks(size=20)\n",
    "plt.ylabel(\"Job-title\",size=20)\n",
    "plt.xlabel(\"No of vacancies\",size=20)\n",
    "plt.xticks(size=20)\n",
    "df3.head(20)"
   ]
  },
  {
   "cell_type": "code",
   "execution_count": 25,
   "id": "13482e45",
   "metadata": {},
   "outputs": [
    {
     "data": {
      "text/html": [
       "<div>\n",
       "<style scoped>\n",
       "    .dataframe tbody tr th:only-of-type {\n",
       "        vertical-align: middle;\n",
       "    }\n",
       "\n",
       "    .dataframe tbody tr th {\n",
       "        vertical-align: top;\n",
       "    }\n",
       "\n",
       "    .dataframe thead th {\n",
       "        text-align: right;\n",
       "    }\n",
       "</style>\n",
       "<table border=\"1\" class=\"dataframe\">\n",
       "  <thead>\n",
       "    <tr style=\"text-align: right;\">\n",
       "      <th></th>\n",
       "      <th>Company</th>\n",
       "      <th>Location</th>\n",
       "      <th>Job-title</th>\n",
       "      <th>Job-level</th>\n",
       "      <th>Expected Salary lpa</th>\n",
       "      <th>Company size</th>\n",
       "      <th>No of vacancies</th>\n",
       "    </tr>\n",
       "  </thead>\n",
       "  <tbody>\n",
       "    <tr>\n",
       "      <th>0</th>\n",
       "      <td>Smart Food Safe Solutions Inc</td>\n",
       "      <td>Bengaluru</td>\n",
       "      <td>FrontEnd-Engineer</td>\n",
       "      <td>1</td>\n",
       "      <td>8</td>\n",
       "      <td>Small</td>\n",
       "      <td>6</td>\n",
       "    </tr>\n",
       "    <tr>\n",
       "      <th>3</th>\n",
       "      <td>Bloom Solutions</td>\n",
       "      <td>Bengaluru</td>\n",
       "      <td>FrontEnd-Engineer</td>\n",
       "      <td>2</td>\n",
       "      <td>14</td>\n",
       "      <td>Small</td>\n",
       "      <td>3</td>\n",
       "    </tr>\n",
       "    <tr>\n",
       "      <th>6</th>\n",
       "      <td>Superior Group</td>\n",
       "      <td>Bengaluru</td>\n",
       "      <td>FrontEnd-Engineer</td>\n",
       "      <td>3</td>\n",
       "      <td>18</td>\n",
       "      <td>Large</td>\n",
       "      <td>3</td>\n",
       "    </tr>\n",
       "    <tr>\n",
       "      <th>9</th>\n",
       "      <td>Ample Technologies</td>\n",
       "      <td>Bengaluru</td>\n",
       "      <td>FrontEnd-Engineer</td>\n",
       "      <td>1</td>\n",
       "      <td>8</td>\n",
       "      <td>Small</td>\n",
       "      <td>6</td>\n",
       "    </tr>\n",
       "    <tr>\n",
       "      <th>12</th>\n",
       "      <td>Superior Group</td>\n",
       "      <td>Bengaluru</td>\n",
       "      <td>FrontEnd-Engineer</td>\n",
       "      <td>2</td>\n",
       "      <td>16</td>\n",
       "      <td>Large</td>\n",
       "      <td>6</td>\n",
       "    </tr>\n",
       "  </tbody>\n",
       "</table>\n",
       "</div>"
      ],
      "text/plain": [
       "                          Company   Location          Job-title  Job-level  \\\n",
       "0   Smart Food Safe Solutions Inc  Bengaluru  FrontEnd-Engineer          1   \n",
       "3                 Bloom Solutions  Bengaluru  FrontEnd-Engineer          2   \n",
       "6                  Superior Group  Bengaluru  FrontEnd-Engineer          3   \n",
       "9              Ample Technologies  Bengaluru  FrontEnd-Engineer          1   \n",
       "12                 Superior Group  Bengaluru  FrontEnd-Engineer          2   \n",
       "\n",
       "    Expected Salary lpa Company size  No of vacancies  \n",
       "0                     8        Small                6  \n",
       "3                    14        Small                3  \n",
       "6                    18        Large                3  \n",
       "9                     8        Small                6  \n",
       "12                   16        Large                6  "
      ]
     },
     "execution_count": 25,
     "metadata": {},
     "output_type": "execute_result"
    }
   ],
   "source": [
    "FrontEnd_Engineer = df[(df['Job-title']=='FrontEnd-Engineer')]\n",
    "FrontEnd_Engineer.head()"
   ]
  },
  {
   "cell_type": "code",
   "execution_count": 27,
   "id": "f5483e4a",
   "metadata": {},
   "outputs": [
    {
     "data": {
      "text/html": [
       "<div>\n",
       "<style scoped>\n",
       "    .dataframe tbody tr th:only-of-type {\n",
       "        vertical-align: middle;\n",
       "    }\n",
       "\n",
       "    .dataframe tbody tr th {\n",
       "        vertical-align: top;\n",
       "    }\n",
       "\n",
       "    .dataframe thead th {\n",
       "        text-align: right;\n",
       "    }\n",
       "</style>\n",
       "<table border=\"1\" class=\"dataframe\">\n",
       "  <thead>\n",
       "    <tr style=\"text-align: right;\">\n",
       "      <th></th>\n",
       "      <th>Location</th>\n",
       "      <th>count</th>\n",
       "    </tr>\n",
       "  </thead>\n",
       "  <tbody>\n",
       "    <tr>\n",
       "      <th>1</th>\n",
       "      <td>Bengaluru</td>\n",
       "      <td>9</td>\n",
       "    </tr>\n",
       "    <tr>\n",
       "      <th>3</th>\n",
       "      <td>Mumbai</td>\n",
       "      <td>7</td>\n",
       "    </tr>\n",
       "    <tr>\n",
       "      <th>4</th>\n",
       "      <td>Pune</td>\n",
       "      <td>7</td>\n",
       "    </tr>\n",
       "    <tr>\n",
       "      <th>0</th>\n",
       "      <td>Ahmedabad</td>\n",
       "      <td>6</td>\n",
       "    </tr>\n",
       "    <tr>\n",
       "      <th>2</th>\n",
       "      <td>Delhi</td>\n",
       "      <td>5</td>\n",
       "    </tr>\n",
       "  </tbody>\n",
       "</table>\n",
       "</div>"
      ],
      "text/plain": [
       "    Location  count\n",
       "1  Bengaluru      9\n",
       "3     Mumbai      7\n",
       "4       Pune      7\n",
       "0  Ahmedabad      6\n",
       "2      Delhi      5"
      ]
     },
     "execution_count": 27,
     "metadata": {},
     "output_type": "execute_result"
    },
    {
     "data": {
      "image/png": "[encoded data removed]",
      "text/plain": [
       "<Figure size 720x504 with 1 Axes>"
      ]
     },
     "metadata": {
      "needs_background": "light"
     },
     "output_type": "display_data"
    }
   ],
   "source": [
    "df5=FrontEnd_Engineer.groupby(by=\"Location\").size().reset_index(name=\"count\").sort_values(by=\"count\",ascending=False)\n",
    "plt.figure(figsize=(10,7))\n",
    "plt.yticks(size=20)\n",
    "sns.barplot(y=\"Location\",x=\"count\",data=df5.head(20))\n",
    "plt.title(\"FrontEnd Engineer Jobs\",size=20)\n",
    "plt.xticks(size=15)\n",
    "df5.head(5)"
   ]
  },
  {
   "cell_type": "code",
   "execution_count": 28,
   "id": "4710d41f",
   "metadata": {},
   "outputs": [
    {
     "data": {
      "text/html": [
       "<div>\n",
       "<style scoped>\n",
       "    .dataframe tbody tr th:only-of-type {\n",
       "        vertical-align: middle;\n",
       "    }\n",
       "\n",
       "    .dataframe tbody tr th {\n",
       "        vertical-align: top;\n",
       "    }\n",
       "\n",
       "    .dataframe thead th {\n",
       "        text-align: right;\n",
       "    }\n",
       "</style>\n",
       "<table border=\"1\" class=\"dataframe\">\n",
       "  <thead>\n",
       "    <tr style=\"text-align: right;\">\n",
       "      <th></th>\n",
       "      <th>Company</th>\n",
       "      <th>Location</th>\n",
       "      <th>Job-title</th>\n",
       "      <th>Job-level</th>\n",
       "      <th>Expected Salary lpa</th>\n",
       "      <th>Company size</th>\n",
       "      <th>No of vacancies</th>\n",
       "    </tr>\n",
       "  </thead>\n",
       "  <tbody>\n",
       "    <tr>\n",
       "      <th>1</th>\n",
       "      <td>Mobiveil</td>\n",
       "      <td>Bengaluru</td>\n",
       "      <td>BackEnd-Engineer</td>\n",
       "      <td>2</td>\n",
       "      <td>17</td>\n",
       "      <td>Medium</td>\n",
       "      <td>4</td>\n",
       "    </tr>\n",
       "    <tr>\n",
       "      <th>4</th>\n",
       "      <td>CIEL HR Services</td>\n",
       "      <td>Bengaluru</td>\n",
       "      <td>BackEnd-Engineer</td>\n",
       "      <td>3</td>\n",
       "      <td>20</td>\n",
       "      <td>Large</td>\n",
       "      <td>3</td>\n",
       "    </tr>\n",
       "    <tr>\n",
       "      <th>7</th>\n",
       "      <td>Bangalore Base Company</td>\n",
       "      <td>Bengaluru</td>\n",
       "      <td>BackEnd-Engineer</td>\n",
       "      <td>1</td>\n",
       "      <td>9</td>\n",
       "      <td>Small</td>\n",
       "      <td>6</td>\n",
       "    </tr>\n",
       "    <tr>\n",
       "      <th>10</th>\n",
       "      <td>Autosystem</td>\n",
       "      <td>Bengaluru</td>\n",
       "      <td>BackEnd-Engineer</td>\n",
       "      <td>3</td>\n",
       "      <td>18</td>\n",
       "      <td>Medium</td>\n",
       "      <td>1</td>\n",
       "    </tr>\n",
       "    <tr>\n",
       "      <th>13</th>\n",
       "      <td>MyAnatomy</td>\n",
       "      <td>Bengaluru</td>\n",
       "      <td>BackEnd-Engineer</td>\n",
       "      <td>1</td>\n",
       "      <td>14</td>\n",
       "      <td>Medium</td>\n",
       "      <td>7</td>\n",
       "    </tr>\n",
       "  </tbody>\n",
       "</table>\n",
       "</div>"
      ],
      "text/plain": [
       "                   Company   Location         Job-title  Job-level  \\\n",
       "1                 Mobiveil  Bengaluru  BackEnd-Engineer          2   \n",
       "4         CIEL HR Services  Bengaluru  BackEnd-Engineer          3   \n",
       "7   Bangalore Base Company  Bengaluru  BackEnd-Engineer          1   \n",
       "10              Autosystem  Bengaluru  BackEnd-Engineer          3   \n",
       "13               MyAnatomy  Bengaluru  BackEnd-Engineer          1   \n",
       "\n",
       "    Expected Salary lpa Company size  No of vacancies  \n",
       "1                    17       Medium                4  \n",
       "4                    20        Large                3  \n",
       "7                     9        Small                6  \n",
       "10                   18       Medium                1  \n",
       "13                   14       Medium                7  "
      ]
     },
     "execution_count": 28,
     "metadata": {},
     "output_type": "execute_result"
    }
   ],
   "source": [
    "BackEnd_Engineer = df[(df['Job-title']=='BackEnd-Engineer')]\n",
    "BackEnd_Engineer.head()"
   ]
  },
  {
   "cell_type": "code",
   "execution_count": 33,
   "id": "b8026c5b",
   "metadata": {},
   "outputs": [
    {
     "data": {
      "text/html": [
       "<div>\n",
       "<style scoped>\n",
       "    .dataframe tbody tr th:only-of-type {\n",
       "        vertical-align: middle;\n",
       "    }\n",
       "\n",
       "    .dataframe tbody tr th {\n",
       "        vertical-align: top;\n",
       "    }\n",
       "\n",
       "    .dataframe thead th {\n",
       "        text-align: right;\n",
       "    }\n",
       "</style>\n",
       "<table border=\"1\" class=\"dataframe\">\n",
       "  <thead>\n",
       "    <tr style=\"text-align: right;\">\n",
       "      <th></th>\n",
       "      <th>Location</th>\n",
       "      <th>count</th>\n",
       "    </tr>\n",
       "  </thead>\n",
       "  <tbody>\n",
       "    <tr>\n",
       "      <th>1</th>\n",
       "      <td>Bengaluru</td>\n",
       "      <td>9</td>\n",
       "    </tr>\n",
       "    <tr>\n",
       "      <th>4</th>\n",
       "      <td>Pune</td>\n",
       "      <td>7</td>\n",
       "    </tr>\n",
       "    <tr>\n",
       "      <th>3</th>\n",
       "      <td>Mumbai</td>\n",
       "      <td>6</td>\n",
       "    </tr>\n",
       "    <tr>\n",
       "      <th>0</th>\n",
       "      <td>Ahmedabad</td>\n",
       "      <td>5</td>\n",
       "    </tr>\n",
       "    <tr>\n",
       "      <th>2</th>\n",
       "      <td>Delhi</td>\n",
       "      <td>5</td>\n",
       "    </tr>\n",
       "  </tbody>\n",
       "</table>\n",
       "</div>"
      ],
      "text/plain": [
       "    Location  count\n",
       "1  Bengaluru      9\n",
       "4       Pune      7\n",
       "3     Mumbai      6\n",
       "0  Ahmedabad      5\n",
       "2      Delhi      5"
      ]
     },
     "execution_count": 33,
     "metadata": {},
     "output_type": "execute_result"
    },
    {
     "data": {
      "image/png": "[encoded data removed]",
      "text/plain": [
       "<Figure size 720x504 with 1 Axes>"
      ]
     },
     "metadata": {
      "needs_background": "light"
     },
     "output_type": "display_data"
    }
   ],
   "source": [
    "df6=BackEnd_Engineer.groupby(by=\"Location\").size().reset_index(name=\"count\").sort_values(by=\"count\",ascending=False)\n",
    "plt.figure(figsize=(10,7))\n",
    "plt.yticks(size=20)\n",
    "sns.barplot(y=\"Location\",x=\"count\",data=df6.head(20))\n",
    "plt.title(\"BackEnd Engineer Jobs\",size=20)\n",
    "plt.xticks(size=15)\n",
    "df6.head(10)"
   ]
  },
  {
   "cell_type": "code",
   "execution_count": 35,
   "id": "f32e3816",
   "metadata": {},
   "outputs": [
    {
     "data": {
      "text/html": [
       "<div>\n",
       "<style scoped>\n",
       "    .dataframe tbody tr th:only-of-type {\n",
       "        vertical-align: middle;\n",
       "    }\n",
       "\n",
       "    .dataframe tbody tr th {\n",
       "        vertical-align: top;\n",
       "    }\n",
       "\n",
       "    .dataframe thead th {\n",
       "        text-align: right;\n",
       "    }\n",
       "</style>\n",
       "<table border=\"1\" class=\"dataframe\">\n",
       "  <thead>\n",
       "    <tr style=\"text-align: right;\">\n",
       "      <th></th>\n",
       "      <th>Company</th>\n",
       "      <th>Location</th>\n",
       "      <th>Job-title</th>\n",
       "      <th>Job-level</th>\n",
       "      <th>Expected Salary lpa</th>\n",
       "      <th>Company size</th>\n",
       "      <th>No of vacancies</th>\n",
       "    </tr>\n",
       "  </thead>\n",
       "  <tbody>\n",
       "    <tr>\n",
       "      <th>2</th>\n",
       "      <td>Open Systems International</td>\n",
       "      <td>Bengaluru</td>\n",
       "      <td>FullStack-Engineer</td>\n",
       "      <td>3</td>\n",
       "      <td>22</td>\n",
       "      <td>Medium</td>\n",
       "      <td>2</td>\n",
       "    </tr>\n",
       "    <tr>\n",
       "      <th>5</th>\n",
       "      <td>Diageo</td>\n",
       "      <td>Bengaluru</td>\n",
       "      <td>FullStack-Engineer</td>\n",
       "      <td>1</td>\n",
       "      <td>17</td>\n",
       "      <td>Medium</td>\n",
       "      <td>7</td>\n",
       "    </tr>\n",
       "    <tr>\n",
       "      <th>8</th>\n",
       "      <td>Bloom Consulting Services</td>\n",
       "      <td>Bengaluru</td>\n",
       "      <td>FullStack-Engineer</td>\n",
       "      <td>2</td>\n",
       "      <td>20</td>\n",
       "      <td>Medium</td>\n",
       "      <td>4</td>\n",
       "    </tr>\n",
       "    <tr>\n",
       "      <th>11</th>\n",
       "      <td>Rapha English Connect Private Limited</td>\n",
       "      <td>Bengaluru</td>\n",
       "      <td>FullStack-Engineer</td>\n",
       "      <td>2</td>\n",
       "      <td>20</td>\n",
       "      <td>Small</td>\n",
       "      <td>3</td>\n",
       "    </tr>\n",
       "    <tr>\n",
       "      <th>14</th>\n",
       "      <td>Keyquest Technologies Private Limited</td>\n",
       "      <td>Bengaluru</td>\n",
       "      <td>FullStack-Engineer</td>\n",
       "      <td>3</td>\n",
       "      <td>22</td>\n",
       "      <td>Small</td>\n",
       "      <td>2</td>\n",
       "    </tr>\n",
       "  </tbody>\n",
       "</table>\n",
       "</div>"
      ],
      "text/plain": [
       "                                  Company   Location           Job-title  \\\n",
       "2              Open Systems International  Bengaluru  FullStack-Engineer   \n",
       "5                                  Diageo  Bengaluru  FullStack-Engineer   \n",
       "8               Bloom Consulting Services  Bengaluru  FullStack-Engineer   \n",
       "11  Rapha English Connect Private Limited  Bengaluru  FullStack-Engineer   \n",
       "14  Keyquest Technologies Private Limited  Bengaluru  FullStack-Engineer   \n",
       "\n",
       "    Job-level  Expected Salary lpa Company size  No of vacancies  \n",
       "2           3                   22       Medium                2  \n",
       "5           1                   17       Medium                7  \n",
       "8           2                   20       Medium                4  \n",
       "11          2                   20        Small                3  \n",
       "14          3                   22        Small                2  "
      ]
     },
     "execution_count": 35,
     "metadata": {},
     "output_type": "execute_result"
    }
   ],
   "source": [
    "Fullstack_Engineer = df[(df['Job-title']=='FullStack-Engineer')]\n",
    "Fullstack_Engineer.head()"
   ]
  },
  {
   "cell_type": "code",
   "execution_count": 36,
   "id": "7b74382e",
   "metadata": {},
   "outputs": [
    {
     "data": {
      "text/html": [
       "<div>\n",
       "<style scoped>\n",
       "    .dataframe tbody tr th:only-of-type {\n",
       "        vertical-align: middle;\n",
       "    }\n",
       "\n",
       "    .dataframe tbody tr th {\n",
       "        vertical-align: top;\n",
       "    }\n",
       "\n",
       "    .dataframe thead th {\n",
       "        text-align: right;\n",
       "    }\n",
       "</style>\n",
       "<table border=\"1\" class=\"dataframe\">\n",
       "  <thead>\n",
       "    <tr style=\"text-align: right;\">\n",
       "      <th></th>\n",
       "      <th>Location</th>\n",
       "      <th>count</th>\n",
       "    </tr>\n",
       "  </thead>\n",
       "  <tbody>\n",
       "    <tr>\n",
       "      <th>1</th>\n",
       "      <td>Bengaluru</td>\n",
       "      <td>8</td>\n",
       "    </tr>\n",
       "    <tr>\n",
       "      <th>3</th>\n",
       "      <td>Mumbai</td>\n",
       "      <td>8</td>\n",
       "    </tr>\n",
       "    <tr>\n",
       "      <th>0</th>\n",
       "      <td>Ahmedabad</td>\n",
       "      <td>6</td>\n",
       "    </tr>\n",
       "    <tr>\n",
       "      <th>2</th>\n",
       "      <td>Delhi</td>\n",
       "      <td>6</td>\n",
       "    </tr>\n",
       "    <tr>\n",
       "      <th>4</th>\n",
       "      <td>Pune</td>\n",
       "      <td>6</td>\n",
       "    </tr>\n",
       "  </tbody>\n",
       "</table>\n",
       "</div>"
      ],
      "text/plain": [
       "    Location  count\n",
       "1  Bengaluru      8\n",
       "3     Mumbai      8\n",
       "0  Ahmedabad      6\n",
       "2      Delhi      6\n",
       "4       Pune      6"
      ]
     },
     "execution_count": 36,
     "metadata": {},
     "output_type": "execute_result"
    },
    {
     "data": {
      "image/png": "[encoded data removed]",
      "text/plain": [
       "<Figure size 720x504 with 1 Axes>"
      ]
     },
     "metadata": {
      "needs_background": "light"
     },
     "output_type": "display_data"
    }
   ],
   "source": [
    "df7=Fullstack_Engineer.groupby(by=\"Location\").size().reset_index(name=\"count\").sort_values(by=\"count\",ascending=False)\n",
    "plt.figure(figsize=(10,7))\n",
    "plt.yticks(size=20)\n",
    "sns.barplot(y=\"Location\",x=\"count\",data=df7.head(20))\n",
    "plt.title(\"Fullstack Engineer Jobs\",size=20)\n",
    "plt.xticks(size=15)\n",
    "df7.head(10)"
   ]
  },
  {
   "cell_type": "code",
   "execution_count": 39,
   "id": "9f9f4727",
   "metadata": {},
   "outputs": [
    {
     "data": {
      "image/png": "[encoded data removed]",
      "text/plain": [
       "<Figure size 1440x720 with 1 Axes>"
      ]
     },
     "metadata": {
      "needs_background": "light"
     },
     "output_type": "display_data"
    }
   ],
   "source": [
    "plt.figure(figsize=(20,10))\n",
    "sns.countplot(x='Company size', hue='Job-title', data=df, palette='plasma')\n",
    "plt.title('Job segmentation wrt Company size')\n",
    "plt.show()"
   ]
  },
  {
   "cell_type": "code",
   "execution_count": 40,
   "id": "1faabe29",
   "metadata": {},
   "outputs": [
    {
     "data": {
      "image/png": "[encoded data removed]",
      "text/plain": [
       "<Figure size 2160x720 with 1 Axes>"
      ]
     },
     "metadata": {
      "needs_background": "light"
     },
     "output_type": "display_data"
    }
   ],
   "source": [
    "plt.figure(figsize=(30,10))\n",
    "sns.countplot(x='Location',hue='Job-title', data=df, palette='plasma')\n",
    "plt.title(\"Job Segmentation wrt Location \")\n",
    "plt.show()"
   ]
  },
  {
   "cell_type": "code",
   "execution_count": 42,
   "id": "ca5e25b6",
   "metadata": {},
   "outputs": [],
   "source": [
    "df['Job-title'].replace(['FrontEnd-Engineer', 'BackEnd-Engineer', 'FullStack-Engineer'], [1,2,3], inplace=True)"
   ]
  },
  {
   "cell_type": "code",
   "execution_count": 44,
   "id": "31ae3db3",
   "metadata": {},
   "outputs": [],
   "source": [
    "from sklearn import preprocessing\n",
    "\n",
    "def Labelencode(column):\n",
    "    \n",
    "    le = preprocessing.LabelEncoder()\n",
    "    le.fit(df[column])\n",
    "    df[column] = le.transform(df[column])\n",
    "\n",
    "    return"
   ]
  },
  {
   "cell_type": "code",
   "execution_count": 45,
   "id": "f7c39c61",
   "metadata": {},
   "outputs": [],
   "source": [
    "object_col = ['Company']\n",
    "for col in object_col:\n",
    "    Labelencode(col)"
   ]
  },
  {
   "cell_type": "code",
   "execution_count": 46,
   "id": "48d3a036",
   "metadata": {},
   "outputs": [
    {
     "name": "stderr",
     "output_type": "stream",
     "text": [
      "C:\\Users\\ASHISH\\anaconda3\\lib\\site-packages\\sklearn\\cluster\\_kmeans.py:1036: UserWarning: KMeans is known to have a memory leak on Windows with MKL, when there are less chunks than available threads. You can avoid it by setting the environment variable OMP_NUM_THREADS=1.\n",
      "  warnings.warn(\n"
     ]
    }
   ],
   "source": [
    "from sklearn.cluster import KMeans\n",
    "\n",
    "X=df[[\"Job-title\",\"Company\"]]\n",
    "X = np.array(X) \n",
    "wcss = []\n",
    "\n",
    "for k in range(1,11):\n",
    "    kmeans = KMeans(n_clusters=k, init=\"k-means++\",random_state=0)\n",
    "    kmeans.fit(X)\n",
    "    wcss.append(kmeans.inertia_)"
   ]
  },
  {
   "cell_type": "code",
   "execution_count": 47,
   "id": "d6b465a2",
   "metadata": {},
   "outputs": [
    {
     "data": {
      "image/png": "[encoded data removed]",
      "text/plain": [
       "<Figure size 864x432 with 1 Axes>"
      ]
     },
     "metadata": {
      "needs_background": "light"
     },
     "output_type": "display_data"
    }
   ],
   "source": [
    "plt.figure(figsize=(12,6))    \n",
    "plt.grid()\n",
    "plt.plot(range(1,11),wcss, linewidth=2, color=\"red\", marker =\"8\")\n",
    "plt.title(\"The Elbow Method Graph\") \n",
    "plt.xlabel(\"No. of Clusters\")\n",
    "plt.xticks(np.arange(1,11,1))\n",
    "plt.ylabel(\"WCSS\")\n",
    "plt.show()"
   ]
  },
  {
   "cell_type": "code",
   "execution_count": 48,
   "id": "dab4f6ab",
   "metadata": {},
   "outputs": [
    {
     "data": {
      "text/plain": [
       "array([0, 2, 2, 1, 1, 1, 0, 1, 1, 1, 1, 2, 0, 2, 2, 0, 2, 0, 2, 2, 1, 2,\n",
       "       1, 0, 0, 1, 1, 0, 2, 1, 1, 2, 2, 1, 2, 2, 1, 2, 0, 1, 0, 1, 1, 2,\n",
       "       2, 2, 0, 0, 2, 1, 0, 2, 1, 0, 1, 1, 1, 1, 2, 2, 2, 0, 2, 2, 2, 2,\n",
       "       2, 1, 0, 0, 1, 0, 0, 0, 0, 1, 1, 2, 0, 1, 2, 2, 2, 0, 1, 0, 2, 0,\n",
       "       1, 1, 1, 1, 0, 1, 0, 2, 2, 0, 0, 1])"
      ]
     },
     "execution_count": 48,
     "metadata": {},
     "output_type": "execute_result"
    }
   ],
   "source": [
    "kmeansmodel = KMeans(n_clusters=3,init=\"k-means++\", random_state=0)\n",
    "y_kmeans = kmeansmodel.fit_predict(X)\n",
    "y_kmeans"
   ]
  },
  {
   "cell_type": "code",
   "execution_count": 49,
   "id": "ca77b894",
   "metadata": {},
   "outputs": [],
   "source": [
    "from mpl_toolkits.mplot3d import Axes3D"
   ]
  },
  {
   "cell_type": "code",
   "execution_count": 51,
   "id": "f3d14ee0",
   "metadata": {},
   "outputs": [
    {
     "data": {
      "image/png": "[encoded data removed]",
      "text/plain": [
       "<Figure size 432x288 with 1 Axes>"
      ]
     },
     "metadata": {
      "needs_background": "light"
     },
     "output_type": "display_data"
    }
   ],
   "source": [
    "plt.scatter(X[y_kmeans == 0,0], X[y_kmeans == 0,1],  c='red', s=60 , label='Customer 1')\n",
    "plt.scatter(X[y_kmeans == 1,0], X[y_kmeans == 1,1],  c='blue', s=60 , label='Customer 2')\n",
    "plt.scatter(X[y_kmeans == 2,0], X[y_kmeans == 2,1],  c='cyan', s=60 , label='Customer 3')\n",
    "#plt.scatter(kmeans.cluster_centers_[:, 0],kmeans.cluster_centers_[:, 1],s=100,c='magenta',label='Centroids')\n",
    "plt.title('Clusters of customers')\n",
    "plt.xlabel(\"Job title\")\n",
    "plt.ylabel(\"Company\")\n",
    "plt.legend()\n",
    "plt.show()"
   ]
  },
  {
   "cell_type": "code",
   "execution_count": null,
   "id": "a11c99c2",
   "metadata": {},
   "outputs": [],
   "source": []
  }
 ],
 "metadata": {
  "kernelspec": {
   "display_name": "Python 3 (ipykernel)",
   "language": "python",
   "name": "python3"
  },
  "language_info": {
   "codemirror_mode": {
    "name": "ipython",
    "version": 3
   },
   "file_extension": ".py",
   "mimetype": "text/x-python",
   "name": "python",
   "nbconvert_exporter": "python",
   "pygments_lexer": "ipython3",
   "version": "3.9.7"
  }
 },
 "nbformat": 4,
 "nbformat_minor": 5
}
